{
 "cells": [
  {
   "cell_type": "code",
   "execution_count": 1,
   "id": "b7625f1d-e03e-4d22-8cd4-8360258dc8d9",
   "metadata": {},
   "outputs": [],
   "source": [
    "# Importing Libraries\n",
    "import pandas as pd\n",
    "import numpy as np\n",
    "import seaborn as sns\n",
    "import matplotlib as mpl\n",
    "import matplotlib.pyplot as plt"
   ]
  },
  {
   "cell_type": "code",
   "execution_count": 2,
   "id": "f23f44f2-dcfb-46fb-8928-fd3204cd2b82",
   "metadata": {},
   "outputs": [],
   "source": [
    "# Importing the CSV file from the desktop\n",
    "df_apps=pd.read_csv(r\"E:\\DA\\projects\\google play apps\\googleplaystore.csv\")"
   ]
  },
  {
   "cell_type": "code",
   "execution_count": 3,
   "id": "8c927517-6dae-4207-af25-07b018778eba",
   "metadata": {},
   "outputs": [
    {
     "data": {
      "text/html": [
       "<div>\n",
       "<style scoped>\n",
       "    .dataframe tbody tr th:only-of-type {\n",
       "        vertical-align: middle;\n",
       "    }\n",
       "\n",
       "    .dataframe tbody tr th {\n",
       "        vertical-align: top;\n",
       "    }\n",
       "\n",
       "    .dataframe thead th {\n",
       "        text-align: right;\n",
       "    }\n",
       "</style>\n",
       "<table border=\"1\" class=\"dataframe\">\n",
       "  <thead>\n",
       "    <tr style=\"text-align: right;\">\n",
       "      <th></th>\n",
       "      <th>App</th>\n",
       "      <th>Category</th>\n",
       "      <th>Rating</th>\n",
       "      <th>Reviews</th>\n",
       "      <th>Size</th>\n",
       "      <th>Installs</th>\n",
       "      <th>Type</th>\n",
       "      <th>Price</th>\n",
       "      <th>Content Rating</th>\n",
       "      <th>Genres</th>\n",
       "      <th>Last Updated</th>\n",
       "      <th>Current Ver</th>\n",
       "      <th>Android Ver</th>\n",
       "    </tr>\n",
       "  </thead>\n",
       "  <tbody>\n",
       "    <tr>\n",
       "      <th>0</th>\n",
       "      <td>Photo Editor &amp; Candy Camera &amp; Grid &amp; ScrapBook</td>\n",
       "      <td>ART_AND_DESIGN</td>\n",
       "      <td>4.1</td>\n",
       "      <td>159</td>\n",
       "      <td>19M</td>\n",
       "      <td>10,000+</td>\n",
       "      <td>Free</td>\n",
       "      <td>0</td>\n",
       "      <td>Everyone</td>\n",
       "      <td>Art &amp; Design</td>\n",
       "      <td>January 7, 2018</td>\n",
       "      <td>1.0.0</td>\n",
       "      <td>4.0.3 and up</td>\n",
       "    </tr>\n",
       "    <tr>\n",
       "      <th>1</th>\n",
       "      <td>Coloring book moana</td>\n",
       "      <td>ART_AND_DESIGN</td>\n",
       "      <td>3.9</td>\n",
       "      <td>967</td>\n",
       "      <td>14M</td>\n",
       "      <td>500,000+</td>\n",
       "      <td>Free</td>\n",
       "      <td>0</td>\n",
       "      <td>Everyone</td>\n",
       "      <td>Art &amp; Design;Pretend Play</td>\n",
       "      <td>January 15, 2018</td>\n",
       "      <td>2.0.0</td>\n",
       "      <td>4.0.3 and up</td>\n",
       "    </tr>\n",
       "    <tr>\n",
       "      <th>2</th>\n",
       "      <td>U Launcher Lite – FREE Live Cool Themes, Hide ...</td>\n",
       "      <td>ART_AND_DESIGN</td>\n",
       "      <td>4.7</td>\n",
       "      <td>87510</td>\n",
       "      <td>8.7M</td>\n",
       "      <td>5,000,000+</td>\n",
       "      <td>Free</td>\n",
       "      <td>0</td>\n",
       "      <td>Everyone</td>\n",
       "      <td>Art &amp; Design</td>\n",
       "      <td>August 1, 2018</td>\n",
       "      <td>1.2.4</td>\n",
       "      <td>4.0.3 and up</td>\n",
       "    </tr>\n",
       "    <tr>\n",
       "      <th>3</th>\n",
       "      <td>Sketch - Draw &amp; Paint</td>\n",
       "      <td>ART_AND_DESIGN</td>\n",
       "      <td>4.5</td>\n",
       "      <td>215644</td>\n",
       "      <td>25M</td>\n",
       "      <td>50,000,000+</td>\n",
       "      <td>Free</td>\n",
       "      <td>0</td>\n",
       "      <td>Teen</td>\n",
       "      <td>Art &amp; Design</td>\n",
       "      <td>June 8, 2018</td>\n",
       "      <td>Varies with device</td>\n",
       "      <td>4.2 and up</td>\n",
       "    </tr>\n",
       "    <tr>\n",
       "      <th>4</th>\n",
       "      <td>Pixel Draw - Number Art Coloring Book</td>\n",
       "      <td>ART_AND_DESIGN</td>\n",
       "      <td>4.3</td>\n",
       "      <td>967</td>\n",
       "      <td>2.8M</td>\n",
       "      <td>100,000+</td>\n",
       "      <td>Free</td>\n",
       "      <td>0</td>\n",
       "      <td>Everyone</td>\n",
       "      <td>Art &amp; Design;Creativity</td>\n",
       "      <td>June 20, 2018</td>\n",
       "      <td>1.1</td>\n",
       "      <td>4.4 and up</td>\n",
       "    </tr>\n",
       "  </tbody>\n",
       "</table>\n",
       "</div>"
      ],
      "text/plain": [
       "                                                 App        Category  Rating  \\\n",
       "0     Photo Editor & Candy Camera & Grid & ScrapBook  ART_AND_DESIGN     4.1   \n",
       "1                                Coloring book moana  ART_AND_DESIGN     3.9   \n",
       "2  U Launcher Lite – FREE Live Cool Themes, Hide ...  ART_AND_DESIGN     4.7   \n",
       "3                              Sketch - Draw & Paint  ART_AND_DESIGN     4.5   \n",
       "4              Pixel Draw - Number Art Coloring Book  ART_AND_DESIGN     4.3   \n",
       "\n",
       "  Reviews  Size     Installs  Type Price Content Rating  \\\n",
       "0     159   19M      10,000+  Free     0       Everyone   \n",
       "1     967   14M     500,000+  Free     0       Everyone   \n",
       "2   87510  8.7M   5,000,000+  Free     0       Everyone   \n",
       "3  215644   25M  50,000,000+  Free     0           Teen   \n",
       "4     967  2.8M     100,000+  Free     0       Everyone   \n",
       "\n",
       "                      Genres      Last Updated         Current Ver  \\\n",
       "0               Art & Design   January 7, 2018               1.0.0   \n",
       "1  Art & Design;Pretend Play  January 15, 2018               2.0.0   \n",
       "2               Art & Design    August 1, 2018               1.2.4   \n",
       "3               Art & Design      June 8, 2018  Varies with device   \n",
       "4    Art & Design;Creativity     June 20, 2018                 1.1   \n",
       "\n",
       "    Android Ver  \n",
       "0  4.0.3 and up  \n",
       "1  4.0.3 and up  \n",
       "2  4.0.3 and up  \n",
       "3    4.2 and up  \n",
       "4    4.4 and up  "
      ]
     },
     "execution_count": 3,
     "metadata": {},
     "output_type": "execute_result"
    }
   ],
   "source": [
    "# df.head() to print few rows to get familiar with the columns and what it represents\n",
    "df_apps.head()"
   ]
  },
  {
   "cell_type": "code",
   "execution_count": 4,
   "id": "c0d07f66-4a35-4dd1-ac53-084946843f3d",
   "metadata": {},
   "outputs": [
    {
     "data": {
      "text/plain": [
       "App                object\n",
       "Category           object\n",
       "Rating            float64\n",
       "Reviews            object\n",
       "Size               object\n",
       "Installs           object\n",
       "Type               object\n",
       "Price              object\n",
       "Content Rating     object\n",
       "Genres             object\n",
       "Last Updated       object\n",
       "Current Ver        object\n",
       "Android Ver        object\n",
       "dtype: object"
      ]
     },
     "execution_count": 4,
     "metadata": {},
     "output_type": "execute_result"
    }
   ],
   "source": [
    "# Printing types of columns\n",
    "# Some columns types may require changing as wrong type can lead to an error message\n",
    "# Need to change type of reviews, installs and price as we will use them \n",
    "df_apps.dtypes"
   ]
  },
  {
   "cell_type": "code",
   "execution_count": 6,
   "id": "65452946-ce4e-420f-875f-4df522a1e027",
   "metadata": {},
   "outputs": [
    {
     "name": "stdout",
     "output_type": "stream",
     "text": [
      "There are 483 Duplicate row\n"
     ]
    }
   ],
   "source": [
    "# Cleaning Dataset\n",
    "# Inspecting for duplicates to remove if existed\n",
    "print('There are', df_apps.duplicated().sum(), \"Duplicate row\")"
   ]
  },
  {
   "cell_type": "code",
   "execution_count": 7,
   "id": "1de01620-cf71-489c-9c06-c3c61866566f",
   "metadata": {},
   "outputs": [],
   "source": [
    "# Cleaning Dataset\n",
    "# Code to drop duplicates\n",
    "df_apps.drop_duplicates(inplace=True)"
   ]
  },
  {
   "cell_type": "code",
   "execution_count": 8,
   "id": "a0f68590-cda8-4365-b346-20e511c89139",
   "metadata": {},
   "outputs": [
    {
     "name": "stdout",
     "output_type": "stream",
     "text": [
      "There are 0 Duplicate row now\n"
     ]
    }
   ],
   "source": [
    "# Confirming duplicates were removed\n",
    "print('There are', df_apps.duplicated().sum(), \"Duplicate row now\")"
   ]
  },
  {
   "cell_type": "code",
   "execution_count": 9,
   "id": "62a0d900-4226-4b28-85da-7f45d3697694",
   "metadata": {},
   "outputs": [
    {
     "data": {
      "text/plain": [
       "App                  0\n",
       "Category             0\n",
       "Rating            1465\n",
       "Reviews              0\n",
       "Size                 0\n",
       "Installs             0\n",
       "Type                 1\n",
       "Price                0\n",
       "Content Rating       1\n",
       "Genres               0\n",
       "Last Updated         0\n",
       "Current Ver          8\n",
       "Android Ver          3\n",
       "dtype: int64"
      ]
     },
     "execution_count": 9,
     "metadata": {},
     "output_type": "execute_result"
    }
   ],
   "source": [
    "# Cleaning Dataset\n",
    "# Inspecting null values\n",
    "df_apps.isnull().sum()"
   ]
  },
  {
   "cell_type": "code",
   "execution_count": 10,
   "id": "8bddfc07-e220-4afb-8df5-5c0233caa149",
   "metadata": {},
   "outputs": [
    {
     "data": {
      "image/png": "[encoded data removed]",
      "text/plain": [
       "<Figure size 800x500 with 1 Axes>"
      ]
     },
     "metadata": {},
     "output_type": "display_data"
    }
   ],
   "source": [
    "# Creat a histogram to check skweness of data\n",
    "# Replace null values by its mean if data is not skewed\n",
    "# Replace null values by its median if data is skewed\n",
    "\n",
    "count, bin_edges = np.histogram(df_apps['Rating'].dropna())\n",
    "\n",
    "df_apps['Rating'].plot(kind='hist', figsize=(8, 5), xticks=bin_edges)\n",
    "\n",
    "plt.title('Histogram of Ratings') # title\n",
    "plt.ylabel('Count of Rating') # y-label\n",
    "plt.xlabel('Rating') # x-label\n",
    "\n",
    "plt.show()"
   ]
  },
  {
   "cell_type": "code",
   "execution_count": 11,
   "id": "e35fcb38-f360-41d5-8555-fb4ea81b5b9b",
   "metadata": {},
   "outputs": [
    {
     "name": "stdout",
     "output_type": "stream",
     "text": [
      "Average of rating: 4.189542336669298\n"
     ]
    }
   ],
   "source": [
    "# Calculating the mean of ratings to add it to empty cells of column ratings\n",
    "avg_rating=df_apps['Rating'].astype('float').mean(axis=0)\n",
    "print(\"Average of rating:\", avg_rating)"
   ]
  },
  {
   "cell_type": "code",
   "execution_count": 12,
   "id": "097b1845-c459-4160-a63e-c7ecf3a5c5e9",
   "metadata": {},
   "outputs": [],
   "source": [
    "# Cleaning Dataset\n",
    "# Replacing the empty rating cells with average rating\n",
    "df_apps['Rating'].replace(np.nan, avg_rating, inplace=True)"
   ]
  },
  {
   "cell_type": "code",
   "execution_count": 13,
   "id": "a938d9ca-8449-4acf-819c-790acc22f882",
   "metadata": {},
   "outputs": [
    {
     "data": {
      "text/plain": [
       "App               0\n",
       "Category          0\n",
       "Rating            0\n",
       "Reviews           0\n",
       "Size              0\n",
       "Installs          0\n",
       "Type              1\n",
       "Price             0\n",
       "Content Rating    1\n",
       "Genres            0\n",
       "Last Updated      0\n",
       "Current Ver       8\n",
       "Android Ver       3\n",
       "dtype: int64"
      ]
     },
     "execution_count": 13,
     "metadata": {},
     "output_type": "execute_result"
    }
   ],
   "source": [
    "# Cleaning Dataset\n",
    "# Inspecting the remaining null values\n",
    "df_apps.isnull().sum()"
   ]
  },
  {
   "cell_type": "code",
   "execution_count": 14,
   "id": "495b3f51-2e2a-45d8-9024-968220268ed1",
   "metadata": {},
   "outputs": [],
   "source": [
    "# Cleaning Dataset\n",
    "# dropping the remaining null values\n",
    "df_apps.dropna(inplace=True)"
   ]
  },
  {
   "cell_type": "code",
   "execution_count": 15,
   "id": "f06e26e8-ae75-49aa-b684-ade8042f9263",
   "metadata": {},
   "outputs": [
    {
     "data": {
      "text/plain": [
       "App               0\n",
       "Category          0\n",
       "Rating            0\n",
       "Reviews           0\n",
       "Size              0\n",
       "Installs          0\n",
       "Type              0\n",
       "Price             0\n",
       "Content Rating    0\n",
       "Genres            0\n",
       "Last Updated      0\n",
       "Current Ver       0\n",
       "Android Ver       0\n",
       "dtype: int64"
      ]
     },
     "execution_count": 15,
     "metadata": {},
     "output_type": "execute_result"
    }
   ],
   "source": [
    "# Confirming nulls were removed\n",
    "df_apps.isnull().sum()"
   ]
  },
  {
   "cell_type": "code",
   "execution_count": 16,
   "id": "64856d4b-6365-4f0c-8698-3360a03d82e8",
   "metadata": {},
   "outputs": [
    {
     "data": {
      "text/plain": [
       "array(['ART_AND_DESIGN', 'AUTO_AND_VEHICLES', 'BEAUTY',\n",
       "       'BOOKS_AND_REFERENCE', 'BUSINESS', 'COMICS', 'COMMUNICATION',\n",
       "       'DATING', 'EDUCATION', 'ENTERTAINMENT', 'EVENTS', 'FINANCE',\n",
       "       'FOOD_AND_DRINK', 'HEALTH_AND_FITNESS', 'HOUSE_AND_HOME',\n",
       "       'LIBRARIES_AND_DEMO', 'LIFESTYLE', 'GAME', 'FAMILY', 'MEDICAL',\n",
       "       'SOCIAL', 'SHOPPING', 'PHOTOGRAPHY', 'SPORTS', 'TRAVEL_AND_LOCAL',\n",
       "       'TOOLS', 'PERSONALIZATION', 'PRODUCTIVITY', 'PARENTING', 'WEATHER',\n",
       "       'VIDEO_PLAYERS', 'NEWS_AND_MAGAZINES', 'MAPS_AND_NAVIGATION'],\n",
       "      dtype=object)"
      ]
     },
     "execution_count": 16,
     "metadata": {},
     "output_type": "execute_result"
    }
   ],
   "source": [
    "# Printing the unique categories of the apps\n",
    "df_apps['Category'].unique()"
   ]
  },
  {
   "cell_type": "code",
   "execution_count": 17,
   "id": "c1a16d71-b669-44c8-863f-79af26126740",
   "metadata": {},
   "outputs": [],
   "source": [
    "# Creating a subset of unique categories and its mean rating \n",
    "# Here we can identify what apps categories has the highest mean rating\n",
    "df_cat = df_apps.groupby('Category').mean().sort_values(by='Rating').tail(10)"
   ]
  },
  {
   "cell_type": "code",
   "execution_count": 18,
   "id": "2309301c-d438-4a46-a946-93c6c8e2b075",
   "metadata": {
    "tags": []
   },
   "outputs": [
    {
     "data": {
      "text/html": [
       "<div>\n",
       "<style scoped>\n",
       "    .dataframe tbody tr th:only-of-type {\n",
       "        vertical-align: middle;\n",
       "    }\n",
       "\n",
       "    .dataframe tbody tr th {\n",
       "        vertical-align: top;\n",
       "    }\n",
       "\n",
       "    .dataframe thead th {\n",
       "        text-align: right;\n",
       "    }\n",
       "</style>\n",
       "<table border=\"1\" class=\"dataframe\">\n",
       "  <thead>\n",
       "    <tr style=\"text-align: right;\">\n",
       "      <th></th>\n",
       "      <th>Rating</th>\n",
       "    </tr>\n",
       "    <tr>\n",
       "      <th>Category</th>\n",
       "      <th></th>\n",
       "    </tr>\n",
       "  </thead>\n",
       "  <tbody>\n",
       "    <tr>\n",
       "      <th>SOCIAL</th>\n",
       "      <td>4.246513</td>\n",
       "    </tr>\n",
       "    <tr>\n",
       "      <th>HEALTH_AND_FITNESS</th>\n",
       "      <td>4.251111</td>\n",
       "    </tr>\n",
       "    <tr>\n",
       "      <th>BEAUTY</th>\n",
       "      <td>4.260094</td>\n",
       "    </tr>\n",
       "    <tr>\n",
       "      <th>GAME</th>\n",
       "      <td>4.277438</td>\n",
       "    </tr>\n",
       "    <tr>\n",
       "      <th>PARENTING</th>\n",
       "      <td>4.281590</td>\n",
       "    </tr>\n",
       "  </tbody>\n",
       "</table>\n",
       "</div>"
      ],
      "text/plain": [
       "                      Rating\n",
       "Category                    \n",
       "SOCIAL              4.246513\n",
       "HEALTH_AND_FITNESS  4.251111\n",
       "BEAUTY              4.260094\n",
       "GAME                4.277438\n",
       "PARENTING           4.281590"
      ]
     },
     "execution_count": 18,
     "metadata": {},
     "output_type": "execute_result"
    }
   ],
   "source": [
    "df_cat.head()"
   ]
  },
  {
   "cell_type": "code",
   "execution_count": 19,
   "id": "df7ffe83-aeed-4327-bad1-5e10cabfcf9b",
   "metadata": {},
   "outputs": [
    {
     "data": {
      "image/png": "[encoded data removed]",
      "text/plain": [
       "<Figure size 1500x600 with 1 Axes>"
      ]
     },
     "metadata": {},
     "output_type": "display_data"
    }
   ],
   "source": [
    "# Plotting the top Apps Categories rated\n",
    "df_cat.plot(kind='barh', figsize=(15, 6), color='steelblue')\n",
    "plt.title('Top App Categories rated')\n",
    "plt.xlabel('Average Rating')\n",
    "plt.show()"
   ]
  },
  {
   "cell_type": "code",
   "execution_count": 20,
   "id": "07e18782-316f-45a0-8c9d-5446e793ba35",
   "metadata": {},
   "outputs": [],
   "source": [
    "# Cleaning Dataset\n",
    "# Cleaning installs column for usage\n",
    "df_apps['Installs'] = df_apps.Installs.apply(lambda x: x.strip('+'))\n",
    "df_apps['Installs'] = df_apps.Installs.apply(lambda x: x.replace(',', ''))"
   ]
  },
  {
   "cell_type": "code",
   "execution_count": 21,
   "id": "8590fb40-c46d-4fe0-9c95-4aa5c4c576b9",
   "metadata": {},
   "outputs": [],
   "source": [
    "# Coverting the type of installs column to int\n",
    "df_apps['Installs'] =pd.to_numeric(df_apps['Installs'], errors='coerce')"
   ]
  },
  {
   "cell_type": "code",
   "execution_count": 22,
   "id": "03fb9dcd-ccc3-4f09-92a5-0c26a05dc0d4",
   "metadata": {},
   "outputs": [
    {
     "data": {
      "text/plain": [
       "dtype('int64')"
      ]
     },
     "execution_count": 22,
     "metadata": {},
     "output_type": "execute_result"
    }
   ],
   "source": [
    "df_apps['Installs'].dtypes"
   ]
  },
  {
   "cell_type": "code",
   "execution_count": 23,
   "id": "e635ebfe-9542-44f1-ab7c-2a9004f1164b",
   "metadata": {},
   "outputs": [],
   "source": [
    "# Creating a subset of unique categories and the sum of each category installs\n",
    "# Here we can identify what apps categories has the highest download count\n",
    "df_ins = df_apps.groupby('Category').sum().sort_values(by='Installs').tail(15)"
   ]
  },
  {
   "cell_type": "code",
   "execution_count": 24,
   "id": "fee849bf-b87a-4727-99c2-471ddc8e8258",
   "metadata": {},
   "outputs": [],
   "source": [
    "df_ins.drop('Rating', inplace=True, axis=1)"
   ]
  },
  {
   "cell_type": "code",
   "execution_count": 25,
   "id": "b130096e-08cb-40d3-82a3-32fa748bafed",
   "metadata": {},
   "outputs": [
    {
     "data": {
      "text/html": [
       "<div>\n",
       "<style scoped>\n",
       "    .dataframe tbody tr th:only-of-type {\n",
       "        vertical-align: middle;\n",
       "    }\n",
       "\n",
       "    .dataframe tbody tr th {\n",
       "        vertical-align: top;\n",
       "    }\n",
       "\n",
       "    .dataframe thead th {\n",
       "        text-align: right;\n",
       "    }\n",
       "</style>\n",
       "<table border=\"1\" class=\"dataframe\">\n",
       "  <thead>\n",
       "    <tr style=\"text-align: right;\">\n",
       "      <th></th>\n",
       "      <th>Installs</th>\n",
       "    </tr>\n",
       "    <tr>\n",
       "      <th>Category</th>\n",
       "      <th></th>\n",
       "    </tr>\n",
       "  </thead>\n",
       "  <tbody>\n",
       "    <tr>\n",
       "      <th>SPORTS</th>\n",
       "      <td>1528574498</td>\n",
       "    </tr>\n",
       "    <tr>\n",
       "      <th>BOOKS_AND_REFERENCE</th>\n",
       "      <td>1916468576</td>\n",
       "    </tr>\n",
       "    <tr>\n",
       "      <th>PERSONALIZATION</th>\n",
       "      <td>2074483782</td>\n",
       "    </tr>\n",
       "    <tr>\n",
       "      <th>ENTERTAINMENT</th>\n",
       "      <td>2455660000</td>\n",
       "    </tr>\n",
       "    <tr>\n",
       "      <th>SHOPPING</th>\n",
       "      <td>2573348785</td>\n",
       "    </tr>\n",
       "    <tr>\n",
       "      <th>NEWS_AND_MAGAZINES</th>\n",
       "      <td>5393217760</td>\n",
       "    </tr>\n",
       "    <tr>\n",
       "      <th>VIDEO_PLAYERS</th>\n",
       "      <td>6222002720</td>\n",
       "    </tr>\n",
       "    <tr>\n",
       "      <th>TRAVEL_AND_LOCAL</th>\n",
       "      <td>6361887146</td>\n",
       "    </tr>\n",
       "    <tr>\n",
       "      <th>PHOTOGRAPHY</th>\n",
       "      <td>9721247655</td>\n",
       "    </tr>\n",
       "    <tr>\n",
       "      <th>FAMILY</th>\n",
       "      <td>10041632405</td>\n",
       "    </tr>\n",
       "    <tr>\n",
       "      <th>TOOLS</th>\n",
       "      <td>11452271905</td>\n",
       "    </tr>\n",
       "    <tr>\n",
       "      <th>PRODUCTIVITY</th>\n",
       "      <td>12463091369</td>\n",
       "    </tr>\n",
       "    <tr>\n",
       "      <th>SOCIAL</th>\n",
       "      <td>12513867902</td>\n",
       "    </tr>\n",
       "    <tr>\n",
       "      <th>COMMUNICATION</th>\n",
       "      <td>24152276251</td>\n",
       "    </tr>\n",
       "    <tr>\n",
       "      <th>GAME</th>\n",
       "      <td>31544024415</td>\n",
       "    </tr>\n",
       "  </tbody>\n",
       "</table>\n",
       "</div>"
      ],
      "text/plain": [
       "                        Installs\n",
       "Category                        \n",
       "SPORTS                1528574498\n",
       "BOOKS_AND_REFERENCE   1916468576\n",
       "PERSONALIZATION       2074483782\n",
       "ENTERTAINMENT         2455660000\n",
       "SHOPPING              2573348785\n",
       "NEWS_AND_MAGAZINES    5393217760\n",
       "VIDEO_PLAYERS         6222002720\n",
       "TRAVEL_AND_LOCAL      6361887146\n",
       "PHOTOGRAPHY           9721247655\n",
       "FAMILY               10041632405\n",
       "TOOLS                11452271905\n",
       "PRODUCTIVITY         12463091369\n",
       "SOCIAL               12513867902\n",
       "COMMUNICATION        24152276251\n",
       "GAME                 31544024415"
      ]
     },
     "execution_count": 25,
     "metadata": {},
     "output_type": "execute_result"
    }
   ],
   "source": [
    "df_ins"
   ]
  },
  {
   "cell_type": "code",
   "execution_count": 26,
   "id": "b766b577-f5ef-41e6-8212-6577f6414c0b",
   "metadata": {},
   "outputs": [
    {
     "data": {
      "image/png": "[encoded data removed]",
      "text/plain": [
       "<Figure size 1500x600 with 1 Axes>"
      ]
     },
     "metadata": {},
     "output_type": "display_data"
    }
   ],
   "source": [
    "# Plotting the top Apps Categories downloaded\n",
    "df_ins.plot(kind='barh', figsize=(15, 6), color='steelblue')\n",
    "plt.title('Top App Categories Downloads')\n",
    "plt.xlabel('No of Downloads')\n",
    "plt.show()"
   ]
  },
  {
   "cell_type": "code",
   "execution_count": 27,
   "id": "d15cbf9c-aa10-4829-945f-efa33dc2f5fd",
   "metadata": {},
   "outputs": [],
   "source": [
    "# Cleaning Dataset\n",
    "# Cleaning price column for usage\n",
    "df_apps['Price'] = df_apps.Price.apply(lambda x: x.replace('$', ''))\n",
    "df_apps.Price = pd.to_numeric(df_apps.Price)"
   ]
  },
  {
   "cell_type": "code",
   "execution_count": 28,
   "id": "4572cc56-8cc8-4be1-9a61-b13a67762945",
   "metadata": {},
   "outputs": [],
   "source": [
    "# Creating a subset of unique categories and the mean price of each category\n",
    "# Here we can identify what apps categories has the highest price mean\n",
    "df_prc = df_apps.groupby('Category').mean().sort_values(by='Price').tail(10)"
   ]
  },
  {
   "cell_type": "code",
   "execution_count": 29,
   "id": "0e3c4303-7550-4a3a-ba9f-abbfcffe6284",
   "metadata": {},
   "outputs": [],
   "source": [
    "del df_prc['Installs']"
   ]
  },
  {
   "cell_type": "code",
   "execution_count": 30,
   "id": "2e6632b4-e4d5-44f7-94f0-ec55eb102f86",
   "metadata": {},
   "outputs": [],
   "source": [
    "del df_prc['Rating']"
   ]
  },
  {
   "cell_type": "code",
   "execution_count": 31,
   "id": "13088912-6515-49c8-901f-cc6be42c6336",
   "metadata": {},
   "outputs": [
    {
     "data": {
      "text/html": [
       "<div>\n",
       "<style scoped>\n",
       "    .dataframe tbody tr th:only-of-type {\n",
       "        vertical-align: middle;\n",
       "    }\n",
       "\n",
       "    .dataframe tbody tr th {\n",
       "        vertical-align: top;\n",
       "    }\n",
       "\n",
       "    .dataframe thead th {\n",
       "        text-align: right;\n",
       "    }\n",
       "</style>\n",
       "<table border=\"1\" class=\"dataframe\">\n",
       "  <thead>\n",
       "    <tr style=\"text-align: right;\">\n",
       "      <th></th>\n",
       "      <th>Price</th>\n",
       "    </tr>\n",
       "    <tr>\n",
       "      <th>Category</th>\n",
       "      <th></th>\n",
       "    </tr>\n",
       "  </thead>\n",
       "  <tbody>\n",
       "    <tr>\n",
       "      <th>PERSONALIZATION</th>\n",
       "      <td>0.388549</td>\n",
       "    </tr>\n",
       "    <tr>\n",
       "      <th>WEATHER</th>\n",
       "      <td>0.395366</td>\n",
       "    </tr>\n",
       "    <tr>\n",
       "      <th>BUSINESS</th>\n",
       "      <td>0.410515</td>\n",
       "    </tr>\n",
       "    <tr>\n",
       "      <th>BOOKS_AND_REFERENCE</th>\n",
       "      <td>0.523013</td>\n",
       "    </tr>\n",
       "    <tr>\n",
       "      <th>PRODUCTIVITY</th>\n",
       "      <td>0.616536</td>\n",
       "    </tr>\n",
       "    <tr>\n",
       "      <th>FAMILY</th>\n",
       "      <td>1.247978</td>\n",
       "    </tr>\n",
       "    <tr>\n",
       "      <th>EVENTS</th>\n",
       "      <td>1.718594</td>\n",
       "    </tr>\n",
       "    <tr>\n",
       "      <th>MEDICAL</th>\n",
       "      <td>2.501691</td>\n",
       "    </tr>\n",
       "    <tr>\n",
       "      <th>LIFESTYLE</th>\n",
       "      <td>6.329410</td>\n",
       "    </tr>\n",
       "    <tr>\n",
       "      <th>FINANCE</th>\n",
       "      <td>8.057861</td>\n",
       "    </tr>\n",
       "  </tbody>\n",
       "</table>\n",
       "</div>"
      ],
      "text/plain": [
       "                        Price\n",
       "Category                     \n",
       "PERSONALIZATION      0.388549\n",
       "WEATHER              0.395366\n",
       "BUSINESS             0.410515\n",
       "BOOKS_AND_REFERENCE  0.523013\n",
       "PRODUCTIVITY         0.616536\n",
       "FAMILY               1.247978\n",
       "EVENTS               1.718594\n",
       "MEDICAL              2.501691\n",
       "LIFESTYLE            6.329410\n",
       "FINANCE              8.057861"
      ]
     },
     "execution_count": 31,
     "metadata": {},
     "output_type": "execute_result"
    }
   ],
   "source": [
    "df_prc"
   ]
  },
  {
   "cell_type": "code",
   "execution_count": 32,
   "id": "0aa2dafe-369b-4468-b27a-a808b2c4d56a",
   "metadata": {},
   "outputs": [
    {
     "data": {
      "image/png": "[encoded data removed]",
      "text/plain": [
       "<Figure size 1500x600 with 1 Axes>"
      ]
     },
     "metadata": {},
     "output_type": "display_data"
    }
   ],
   "source": [
    "# Plotting the top Apps Categories average price\n",
    "df_prc.plot(kind='barh', figsize=(15, 6), color='steelblue')\n",
    "plt.title('Top App Categories average price')\n",
    "plt.xlabel('Average Price')\n",
    "plt.show()"
   ]
  },
  {
   "cell_type": "code",
   "execution_count": 33,
   "id": "e32b5cd1-69e9-4f62-9d8c-e41843857108",
   "metadata": {},
   "outputs": [
    {
     "data": {
      "text/html": [
       "<div>\n",
       "<style scoped>\n",
       "    .dataframe tbody tr th:only-of-type {\n",
       "        vertical-align: middle;\n",
       "    }\n",
       "\n",
       "    .dataframe tbody tr th {\n",
       "        vertical-align: top;\n",
       "    }\n",
       "\n",
       "    .dataframe thead th {\n",
       "        text-align: right;\n",
       "    }\n",
       "</style>\n",
       "<table border=\"1\" class=\"dataframe\">\n",
       "  <thead>\n",
       "    <tr style=\"text-align: right;\">\n",
       "      <th></th>\n",
       "      <th>Rating</th>\n",
       "      <th>Installs</th>\n",
       "      <th>Price</th>\n",
       "    </tr>\n",
       "    <tr>\n",
       "      <th>App</th>\n",
       "      <th></th>\n",
       "      <th></th>\n",
       "      <th></th>\n",
       "    </tr>\n",
       "  </thead>\n",
       "  <tbody>\n",
       "    <tr>\n",
       "      <th>Photo Editor &amp; Candy Camera &amp; Grid &amp; ScrapBook</th>\n",
       "      <td>4.1</td>\n",
       "      <td>10000</td>\n",
       "      <td>0.0</td>\n",
       "    </tr>\n",
       "    <tr>\n",
       "      <th>Coloring book moana</th>\n",
       "      <td>3.9</td>\n",
       "      <td>500000</td>\n",
       "      <td>0.0</td>\n",
       "    </tr>\n",
       "    <tr>\n",
       "      <th>U Launcher Lite – FREE Live Cool Themes, Hide Apps</th>\n",
       "      <td>4.7</td>\n",
       "      <td>5000000</td>\n",
       "      <td>0.0</td>\n",
       "    </tr>\n",
       "    <tr>\n",
       "      <th>Sketch - Draw &amp; Paint</th>\n",
       "      <td>4.5</td>\n",
       "      <td>50000000</td>\n",
       "      <td>0.0</td>\n",
       "    </tr>\n",
       "    <tr>\n",
       "      <th>Pixel Draw - Number Art Coloring Book</th>\n",
       "      <td>4.3</td>\n",
       "      <td>100000</td>\n",
       "      <td>0.0</td>\n",
       "    </tr>\n",
       "    <tr>\n",
       "      <th>Paper flowers instructions</th>\n",
       "      <td>4.4</td>\n",
       "      <td>50000</td>\n",
       "      <td>0.0</td>\n",
       "    </tr>\n",
       "    <tr>\n",
       "      <th>Smoke Effect Photo Maker - Smoke Editor</th>\n",
       "      <td>3.8</td>\n",
       "      <td>50000</td>\n",
       "      <td>0.0</td>\n",
       "    </tr>\n",
       "    <tr>\n",
       "      <th>Infinite Painter</th>\n",
       "      <td>4.1</td>\n",
       "      <td>1000000</td>\n",
       "      <td>0.0</td>\n",
       "    </tr>\n",
       "    <tr>\n",
       "      <th>Garden Coloring Book</th>\n",
       "      <td>4.4</td>\n",
       "      <td>1000000</td>\n",
       "      <td>0.0</td>\n",
       "    </tr>\n",
       "    <tr>\n",
       "      <th>Kids Paint Free - Drawing Fun</th>\n",
       "      <td>4.7</td>\n",
       "      <td>10000</td>\n",
       "      <td>0.0</td>\n",
       "    </tr>\n",
       "  </tbody>\n",
       "</table>\n",
       "</div>"
      ],
      "text/plain": [
       "                                                    Rating  Installs  Price\n",
       "App                                                                        \n",
       "Photo Editor & Candy Camera & Grid & ScrapBook         4.1     10000    0.0\n",
       "Coloring book moana                                    3.9    500000    0.0\n",
       "U Launcher Lite – FREE Live Cool Themes, Hide Apps     4.7   5000000    0.0\n",
       "Sketch - Draw & Paint                                  4.5  50000000    0.0\n",
       "Pixel Draw - Number Art Coloring Book                  4.3    100000    0.0\n",
       "Paper flowers instructions                             4.4     50000    0.0\n",
       "Smoke Effect Photo Maker - Smoke Editor                3.8     50000    0.0\n",
       "Infinite Painter                                       4.1   1000000    0.0\n",
       "Garden Coloring Book                                   4.4   1000000    0.0\n",
       "Kids Paint Free - Drawing Fun                          4.7     10000    0.0"
      ]
     },
     "execution_count": 33,
     "metadata": {},
     "output_type": "execute_result"
    }
   ],
   "source": [
    "# Creating a subset of applications names, rating, installs and price\n",
    "# Here we can identify top 10 applications rated, installed and priced\n",
    "top10=df_apps[['App', 'Rating', 'Installs', 'Price']]\n",
    "top10.set_index('App', inplace=True)\n",
    "top10.head(10)"
   ]
  },
  {
   "cell_type": "code",
   "execution_count": 34,
   "id": "5a45f849-d415-4db8-8503-6b4b88fa0671",
   "metadata": {},
   "outputs": [
    {
     "data": {
      "text/html": [
       "<div>\n",
       "<style scoped>\n",
       "    .dataframe tbody tr th:only-of-type {\n",
       "        vertical-align: middle;\n",
       "    }\n",
       "\n",
       "    .dataframe tbody tr th {\n",
       "        vertical-align: top;\n",
       "    }\n",
       "\n",
       "    .dataframe thead th {\n",
       "        text-align: right;\n",
       "    }\n",
       "</style>\n",
       "<table border=\"1\" class=\"dataframe\">\n",
       "  <thead>\n",
       "    <tr style=\"text-align: right;\">\n",
       "      <th></th>\n",
       "      <th>Rating</th>\n",
       "      <th>Installs</th>\n",
       "      <th>Price</th>\n",
       "    </tr>\n",
       "    <tr>\n",
       "      <th>App</th>\n",
       "      <th></th>\n",
       "      <th></th>\n",
       "      <th></th>\n",
       "    </tr>\n",
       "  </thead>\n",
       "  <tbody>\n",
       "    <tr>\n",
       "      <th>Google Play Books</th>\n",
       "      <td>3.9</td>\n",
       "      <td>1000000000</td>\n",
       "      <td>0.0</td>\n",
       "    </tr>\n",
       "    <tr>\n",
       "      <th>Messenger – Text and Video Chat for Free</th>\n",
       "      <td>4.0</td>\n",
       "      <td>1000000000</td>\n",
       "      <td>0.0</td>\n",
       "    </tr>\n",
       "    <tr>\n",
       "      <th>WhatsApp Messenger</th>\n",
       "      <td>4.4</td>\n",
       "      <td>1000000000</td>\n",
       "      <td>0.0</td>\n",
       "    </tr>\n",
       "    <tr>\n",
       "      <th>Google Chrome: Fast &amp; Secure</th>\n",
       "      <td>4.3</td>\n",
       "      <td>1000000000</td>\n",
       "      <td>0.0</td>\n",
       "    </tr>\n",
       "    <tr>\n",
       "      <th>Gmail</th>\n",
       "      <td>4.3</td>\n",
       "      <td>1000000000</td>\n",
       "      <td>0.0</td>\n",
       "    </tr>\n",
       "    <tr>\n",
       "      <th>Hangouts</th>\n",
       "      <td>4.0</td>\n",
       "      <td>1000000000</td>\n",
       "      <td>0.0</td>\n",
       "    </tr>\n",
       "    <tr>\n",
       "      <th>Messenger – Text and Video Chat for Free</th>\n",
       "      <td>4.0</td>\n",
       "      <td>1000000000</td>\n",
       "      <td>0.0</td>\n",
       "    </tr>\n",
       "    <tr>\n",
       "      <th>Hangouts</th>\n",
       "      <td>4.0</td>\n",
       "      <td>1000000000</td>\n",
       "      <td>0.0</td>\n",
       "    </tr>\n",
       "    <tr>\n",
       "      <th>Skype - free IM &amp; video calls</th>\n",
       "      <td>4.1</td>\n",
       "      <td>1000000000</td>\n",
       "      <td>0.0</td>\n",
       "    </tr>\n",
       "    <tr>\n",
       "      <th>Google Chrome: Fast &amp; Secure</th>\n",
       "      <td>4.3</td>\n",
       "      <td>1000000000</td>\n",
       "      <td>0.0</td>\n",
       "    </tr>\n",
       "  </tbody>\n",
       "</table>\n",
       "</div>"
      ],
      "text/plain": [
       "                                          Rating    Installs  Price\n",
       "App                                                                \n",
       "Google Play Books                            3.9  1000000000    0.0\n",
       "Messenger – Text and Video Chat for Free     4.0  1000000000    0.0\n",
       "WhatsApp Messenger                           4.4  1000000000    0.0\n",
       "Google Chrome: Fast & Secure                 4.3  1000000000    0.0\n",
       "Gmail                                        4.3  1000000000    0.0\n",
       "Hangouts                                     4.0  1000000000    0.0\n",
       "Messenger – Text and Video Chat for Free     4.0  1000000000    0.0\n",
       "Hangouts                                     4.0  1000000000    0.0\n",
       "Skype - free IM & video calls                4.1  1000000000    0.0\n",
       "Google Chrome: Fast & Secure                 4.3  1000000000    0.0"
      ]
     },
     "execution_count": 34,
     "metadata": {},
     "output_type": "execute_result"
    }
   ],
   "source": [
    "# Top 10 apps installed\n",
    "top10.nlargest(10, 'Installs')"
   ]
  },
  {
   "cell_type": "code",
   "execution_count": 35,
   "id": "762d61de-1cac-4576-bc17-ad108010b190",
   "metadata": {},
   "outputs": [
    {
     "data": {
      "text/html": [
       "<div>\n",
       "<style scoped>\n",
       "    .dataframe tbody tr th:only-of-type {\n",
       "        vertical-align: middle;\n",
       "    }\n",
       "\n",
       "    .dataframe tbody tr th {\n",
       "        vertical-align: top;\n",
       "    }\n",
       "\n",
       "    .dataframe thead th {\n",
       "        text-align: right;\n",
       "    }\n",
       "</style>\n",
       "<table border=\"1\" class=\"dataframe\">\n",
       "  <thead>\n",
       "    <tr style=\"text-align: right;\">\n",
       "      <th></th>\n",
       "      <th>Rating</th>\n",
       "      <th>Installs</th>\n",
       "      <th>Price</th>\n",
       "    </tr>\n",
       "    <tr>\n",
       "      <th>App</th>\n",
       "      <th></th>\n",
       "      <th></th>\n",
       "      <th></th>\n",
       "    </tr>\n",
       "  </thead>\n",
       "  <tbody>\n",
       "    <tr>\n",
       "      <th>I'm Rich - Trump Edition</th>\n",
       "      <td>3.6</td>\n",
       "      <td>10000</td>\n",
       "      <td>400.00</td>\n",
       "    </tr>\n",
       "    <tr>\n",
       "      <th>most expensive app (H)</th>\n",
       "      <td>4.3</td>\n",
       "      <td>100</td>\n",
       "      <td>399.99</td>\n",
       "    </tr>\n",
       "    <tr>\n",
       "      <th>💎 I'm rich</th>\n",
       "      <td>3.8</td>\n",
       "      <td>10000</td>\n",
       "      <td>399.99</td>\n",
       "    </tr>\n",
       "    <tr>\n",
       "      <th>I am rich</th>\n",
       "      <td>3.8</td>\n",
       "      <td>100000</td>\n",
       "      <td>399.99</td>\n",
       "    </tr>\n",
       "    <tr>\n",
       "      <th>I am Rich Plus</th>\n",
       "      <td>4.0</td>\n",
       "      <td>10000</td>\n",
       "      <td>399.99</td>\n",
       "    </tr>\n",
       "    <tr>\n",
       "      <th>I Am Rich Premium</th>\n",
       "      <td>4.1</td>\n",
       "      <td>50000</td>\n",
       "      <td>399.99</td>\n",
       "    </tr>\n",
       "    <tr>\n",
       "      <th>I am Rich!</th>\n",
       "      <td>3.8</td>\n",
       "      <td>1000</td>\n",
       "      <td>399.99</td>\n",
       "    </tr>\n",
       "    <tr>\n",
       "      <th>I am rich(premium)</th>\n",
       "      <td>3.5</td>\n",
       "      <td>5000</td>\n",
       "      <td>399.99</td>\n",
       "    </tr>\n",
       "    <tr>\n",
       "      <th>I Am Rich Pro</th>\n",
       "      <td>4.4</td>\n",
       "      <td>5000</td>\n",
       "      <td>399.99</td>\n",
       "    </tr>\n",
       "    <tr>\n",
       "      <th>I am rich (Most expensive app)</th>\n",
       "      <td>4.1</td>\n",
       "      <td>1000</td>\n",
       "      <td>399.99</td>\n",
       "    </tr>\n",
       "  </tbody>\n",
       "</table>\n",
       "</div>"
      ],
      "text/plain": [
       "                                Rating  Installs   Price\n",
       "App                                                     \n",
       "I'm Rich - Trump Edition           3.6     10000  400.00\n",
       "most expensive app (H)             4.3       100  399.99\n",
       "💎 I'm rich                         3.8     10000  399.99\n",
       "I am rich                          3.8    100000  399.99\n",
       "I am Rich Plus                     4.0     10000  399.99\n",
       "I Am Rich Premium                  4.1     50000  399.99\n",
       "I am Rich!                         3.8      1000  399.99\n",
       "I am rich(premium)                 3.5      5000  399.99\n",
       "I Am Rich Pro                      4.4      5000  399.99\n",
       "I am rich (Most expensive app)     4.1      1000  399.99"
      ]
     },
     "execution_count": 35,
     "metadata": {},
     "output_type": "execute_result"
    }
   ],
   "source": [
    "# Top 10 apps priced\n",
    "top10.nlargest(10, 'Price')"
   ]
  },
  {
   "cell_type": "code",
   "execution_count": 36,
   "id": "e510387a-3270-418b-9492-7ebc5c07f31f",
   "metadata": {},
   "outputs": [
    {
     "data": {
      "text/html": [
       "<div>\n",
       "<style scoped>\n",
       "    .dataframe tbody tr th:only-of-type {\n",
       "        vertical-align: middle;\n",
       "    }\n",
       "\n",
       "    .dataframe tbody tr th {\n",
       "        vertical-align: top;\n",
       "    }\n",
       "\n",
       "    .dataframe thead th {\n",
       "        text-align: right;\n",
       "    }\n",
       "</style>\n",
       "<table border=\"1\" class=\"dataframe\">\n",
       "  <thead>\n",
       "    <tr style=\"text-align: right;\">\n",
       "      <th></th>\n",
       "      <th>App</th>\n",
       "      <th>Category</th>\n",
       "      <th>Rating</th>\n",
       "      <th>Reviews</th>\n",
       "      <th>Size</th>\n",
       "      <th>Installs</th>\n",
       "      <th>Type</th>\n",
       "      <th>Price</th>\n",
       "      <th>Content Rating</th>\n",
       "      <th>Genres</th>\n",
       "      <th>Last Updated</th>\n",
       "      <th>Current Ver</th>\n",
       "      <th>Android Ver</th>\n",
       "    </tr>\n",
       "  </thead>\n",
       "  <tbody>\n",
       "    <tr>\n",
       "      <th>0</th>\n",
       "      <td>Photo Editor &amp; Candy Camera &amp; Grid &amp; ScrapBook</td>\n",
       "      <td>ART_AND_DESIGN</td>\n",
       "      <td>4.1</td>\n",
       "      <td>159</td>\n",
       "      <td>19M</td>\n",
       "      <td>10000</td>\n",
       "      <td>Free</td>\n",
       "      <td>0.0</td>\n",
       "      <td>Everyone</td>\n",
       "      <td>Art &amp; Design</td>\n",
       "      <td>January 7, 2018</td>\n",
       "      <td>1.0.0</td>\n",
       "      <td>4.0.3 and up</td>\n",
       "    </tr>\n",
       "    <tr>\n",
       "      <th>1</th>\n",
       "      <td>Coloring book moana</td>\n",
       "      <td>ART_AND_DESIGN</td>\n",
       "      <td>3.9</td>\n",
       "      <td>967</td>\n",
       "      <td>14M</td>\n",
       "      <td>500000</td>\n",
       "      <td>Free</td>\n",
       "      <td>0.0</td>\n",
       "      <td>Everyone</td>\n",
       "      <td>Art &amp; Design;Pretend Play</td>\n",
       "      <td>January 15, 2018</td>\n",
       "      <td>2.0.0</td>\n",
       "      <td>4.0.3 and up</td>\n",
       "    </tr>\n",
       "    <tr>\n",
       "      <th>2</th>\n",
       "      <td>U Launcher Lite – FREE Live Cool Themes, Hide ...</td>\n",
       "      <td>ART_AND_DESIGN</td>\n",
       "      <td>4.7</td>\n",
       "      <td>87510</td>\n",
       "      <td>8.7M</td>\n",
       "      <td>5000000</td>\n",
       "      <td>Free</td>\n",
       "      <td>0.0</td>\n",
       "      <td>Everyone</td>\n",
       "      <td>Art &amp; Design</td>\n",
       "      <td>August 1, 2018</td>\n",
       "      <td>1.2.4</td>\n",
       "      <td>4.0.3 and up</td>\n",
       "    </tr>\n",
       "    <tr>\n",
       "      <th>3</th>\n",
       "      <td>Sketch - Draw &amp; Paint</td>\n",
       "      <td>ART_AND_DESIGN</td>\n",
       "      <td>4.5</td>\n",
       "      <td>215644</td>\n",
       "      <td>25M</td>\n",
       "      <td>50000000</td>\n",
       "      <td>Free</td>\n",
       "      <td>0.0</td>\n",
       "      <td>Teen</td>\n",
       "      <td>Art &amp; Design</td>\n",
       "      <td>June 8, 2018</td>\n",
       "      <td>Varies with device</td>\n",
       "      <td>4.2 and up</td>\n",
       "    </tr>\n",
       "    <tr>\n",
       "      <th>4</th>\n",
       "      <td>Pixel Draw - Number Art Coloring Book</td>\n",
       "      <td>ART_AND_DESIGN</td>\n",
       "      <td>4.3</td>\n",
       "      <td>967</td>\n",
       "      <td>2.8M</td>\n",
       "      <td>100000</td>\n",
       "      <td>Free</td>\n",
       "      <td>0.0</td>\n",
       "      <td>Everyone</td>\n",
       "      <td>Art &amp; Design;Creativity</td>\n",
       "      <td>June 20, 2018</td>\n",
       "      <td>1.1</td>\n",
       "      <td>4.4 and up</td>\n",
       "    </tr>\n",
       "  </tbody>\n",
       "</table>\n",
       "</div>"
      ],
      "text/plain": [
       "                                                 App        Category  Rating  \\\n",
       "0     Photo Editor & Candy Camera & Grid & ScrapBook  ART_AND_DESIGN     4.1   \n",
       "1                                Coloring book moana  ART_AND_DESIGN     3.9   \n",
       "2  U Launcher Lite – FREE Live Cool Themes, Hide ...  ART_AND_DESIGN     4.7   \n",
       "3                              Sketch - Draw & Paint  ART_AND_DESIGN     4.5   \n",
       "4              Pixel Draw - Number Art Coloring Book  ART_AND_DESIGN     4.3   \n",
       "\n",
       "  Reviews  Size  Installs  Type  Price Content Rating  \\\n",
       "0     159   19M     10000  Free    0.0       Everyone   \n",
       "1     967   14M    500000  Free    0.0       Everyone   \n",
       "2   87510  8.7M   5000000  Free    0.0       Everyone   \n",
       "3  215644   25M  50000000  Free    0.0           Teen   \n",
       "4     967  2.8M    100000  Free    0.0       Everyone   \n",
       "\n",
       "                      Genres      Last Updated         Current Ver  \\\n",
       "0               Art & Design   January 7, 2018               1.0.0   \n",
       "1  Art & Design;Pretend Play  January 15, 2018               2.0.0   \n",
       "2               Art & Design    August 1, 2018               1.2.4   \n",
       "3               Art & Design      June 8, 2018  Varies with device   \n",
       "4    Art & Design;Creativity     June 20, 2018                 1.1   \n",
       "\n",
       "    Android Ver  \n",
       "0  4.0.3 and up  \n",
       "1  4.0.3 and up  \n",
       "2  4.0.3 and up  \n",
       "3    4.2 and up  \n",
       "4    4.4 and up  "
      ]
     },
     "execution_count": 36,
     "metadata": {},
     "output_type": "execute_result"
    }
   ],
   "source": [
    "df_apps.head()"
   ]
  },
  {
   "cell_type": "code",
   "execution_count": 37,
   "id": "fb8dc64d-8424-4207-b8b5-9b670b77e3d7",
   "metadata": {},
   "outputs": [
    {
     "data": {
      "text/plain": [
       "App                object\n",
       "Category           object\n",
       "Rating            float64\n",
       "Reviews            object\n",
       "Size               object\n",
       "Installs            int64\n",
       "Type               object\n",
       "Price             float64\n",
       "Content Rating     object\n",
       "Genres             object\n",
       "Last Updated       object\n",
       "Current Ver        object\n",
       "Android Ver        object\n",
       "dtype: object"
      ]
     },
     "execution_count": 37,
     "metadata": {},
     "output_type": "execute_result"
    }
   ],
   "source": [
    "df_apps.dtypes"
   ]
  },
  {
   "cell_type": "code",
   "execution_count": 38,
   "id": "bed952d3-ca30-4ab9-a26a-63fbbfd3cdd8",
   "metadata": {},
   "outputs": [],
   "source": [
    "# Saving the cleaned dataset to a new csv file\n",
    "df_apps.to_csv('GooglePlayAppsCleaned.csv')"
   ]
  },
  {
   "cell_type": "code",
   "execution_count": null,
   "id": "2156d88d-a845-4499-9b45-12e290a8e117",
   "metadata": {},
   "outputs": [],
   "source": []
  }
 ],
 "metadata": {
  "kernelspec": {
   "display_name": "Python 3 (ipykernel)",
   "language": "python",
   "name": "python3"
  },
  "language_info": {
   "codemirror_mode": {
    "name": "ipython",
    "version": 3
   },
   "file_extension": ".py",
   "mimetype": "text/x-python",
   "name": "python",
   "nbconvert_exporter": "python",
   "pygments_lexer": "ipython3",
   "version": "3.11.4"
  }
 },
 "nbformat": 4,
 "nbformat_minor": 5
}
