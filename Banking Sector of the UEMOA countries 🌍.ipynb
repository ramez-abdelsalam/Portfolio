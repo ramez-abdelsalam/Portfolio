{
 "cells": [
  {
   "cell_type": "markdown",
   "id": "4bb0209a-3b6e-4360-abf6-78bb3e8d2b78",
   "metadata": {},
   "source": [
    "## Banking Sector of the UEMOA countries 🌍 Dataset."
   ]
  },
  {
   "cell_type": "markdown",
   "id": "dc1ed69b-5b79-4c52-803b-30d5555642dc",
   "metadata": {},
   "source": [
    "**About The Dataset**"
   ]
  },
  {
   "cell_type": "raw",
   "id": "c2e5e0b6-606f-4e00-bd70-28e8f028061d",
   "metadata": {},
   "source": [
    "Link to the dataset: https://www.kaggle.com/datasets/waalbannyantudre/banking-sector-of-the-waemu\n",
    "Lisence: CC BY-SA 4.0\n",
    "Usability: 10\n",
    "\n",
    "This dataset pertains to the banking sector of the West African Economic and Monetary Union (UEMOA), \n",
    "encompassing the following countries: Benin, Burkina Faso, Côte d'Ivoire, Guinea-Bissau, Mali, Niger, Senegal, and Togo."
   ]
  },
  {
   "cell_type": "markdown",
   "id": "ede94e17-08a3-4a4b-9aec-c9953b85c31f",
   "metadata": {},
   "source": [
    "**Column Description**"
   ]
  },
  {
   "cell_type": "raw",
   "id": "28f66b58-3f3e-4bce-bb97-c76aa7ee63a2",
   "metadata": {},
   "source": [
    "Countries_Num: Numeric code representing the 8 countries in the WAEMU.\n",
    "id: An identifier for each bank in the dataset.\n",
    "Countries: The names of the countries in the WAEMU.\n",
    "Banks: The names of the banks within the specified countries.\n",
    "Year: Integer variable indicating the year in which the data was recorded.\n"
   ]
  },
  {
   "cell_type": "raw",
   "id": "065d7f10-25e7-41d2-8cb6-7ad93e65a8b0",
   "metadata": {},
   "source": [
    "RIR (Risk Index Rating): \n",
    "    The FDIC (Fedral Deposit Insurance Corporation) assigns a bank rating between 1 and 5 based on the CAMELS assessment framework. \n",
    "A rating of 1 to 2 is assigned to financial institutions that are strong on all six aspects of the CAMELS framework. The institutions \n",
    "are generally considered to be in a sound financial position.Banks that are assigned ratings of 4 or 5 are generally considered to be in danger.\n",
    "Such banks need to take immediate action and require careful monitoring.\n",
    "    \n",
    "CAMELS = Capitalization, Asets quality, Management, Earnings, Liquidity and Sensetivity to market risk"
   ]
  },
  {
   "cell_type": "raw",
   "id": "e250e121-a6f2-4e8d-aeb7-03e1c9a8c1b9",
   "metadata": {},
   "source": [
    "SFS (Solvency and Financial Stability):\n",
    "    Solvency ratio refers to how much cash flow a bank generates to its long-term debts and financial obligations, while financial stability refers \n",
    "to the absence of system-wide episodes in which the financial system fails to function or to the resilience of the financial system to stress.\n",
    "Higher SFS means good financial position."
   ]
  },
  {
   "cell_type": "raw",
   "id": "b6ac241e-80eb-49cf-8dcf-4a02c329fde1",
   "metadata": {},
   "source": [
    "INF (Inflation Rate): \n",
    "    Represents the inflation rate, a measure of the general rise in prices over a period of time and it is a country measure."
   ]
  },
  {
   "cell_type": "raw",
   "id": "9a2e92fa-4e51-45fd-a3ec-9118f45d756c",
   "metadata": {},
   "source": [
    "ERA (Economic Risk Assessment):\n",
    "    is the process of analyzing potential events that may result in the loss of an asset, loan, or investment"
   ]
  },
  {
   "cell_type": "raw",
   "id": "865ab983-f7b8-4912-bc07-3c839063fea4",
   "metadata": {},
   "source": [
    "INL (Internationalization Level): \n",
    "    Indicates the extent to which banks are involved in international activities.\n"
   ]
  },
  {
   "cell_type": "raw",
   "id": "4235d955-de0c-4650-9ca6-211c7f7f59bf",
   "metadata": {},
   "source": [
    "Zscore: \n",
    "    It is a measure of the risk of a bank’s failure, based on its capital, profitability, and volatility. A higher Z-score indicates a lower probability of default, and a lower Z-score indicates a higher probability of default. A safe bank Z-score is generally considered to be above 15, which means that the bank has enough buffers to withstand a three standard deviation shock to its returns1. However, the Z-score may vary depending on the country, the regulatory environment, and the business model of the bank."
   ]
  },
  {
   "cell_type": "raw",
   "id": "dcc4e7d1-0030-42c0-be54-01d6e759212b",
   "metadata": {},
   "source": [
    "DEBT (Debt Level):\n",
    "    It is a measure of how much debt a bank has in relation to its assets, equity, or income. It can be used to assess the financial health and stability of a bank, as well as its risk of default السداد or insolvency الافلاس.\n",
    "    There are three ways to measure DEBT, but here i think debt-to-equity الاصول ratio is the method used here, which divides the total debt of a bank by its total equity. This shows how much of the bank’s equity is leveraged by debt. A higher ratio indicates a higher financial risk and a lower solvency. "
   ]
  },
  {
   "cell_type": "raw",
   "id": "4ad76e23-6408-4960-9ba6-1d305c1a1ed7",
   "metadata": {},
   "source": [
    "SIZE: \n",
    "    Represents the size of the banks, typically measured by total assets or other relevant financial metrics.\n",
    "Here is a list of largest 100 banks in size (https://en.wikipedia.org/wiki/List_of_largest_banks)"
   ]
  },
  {
   "cell_type": "raw",
   "id": "c5afc4fc-8114-41b2-83ac-556ff8e5e115",
   "metadata": {},
   "source": [
    "CC (Capital Adequacy):\n",
    "    The Capital Adequacy Ratio is a measure of a bank’s ability to meet its obligations and absorb losses. It is also known as the Capital-to-Risk Weighted Assets Ratio (CRAR). The ratio compares a bank’s capital to its risk-weighted assets and is used by regulators to determine a bank’s risk of failure.\n",
    "    Currently, the minimum ratio of capital to risk-weighted assets is eight percent under Basel II and 10.5 percent under Basel III. High capital adequacy ratios are above the minimum requirements under Basel II and Basel III.\n",
    "    For example, suppose bank ABC has $10 million in tier-one capital and $5 million in tier-two capital. It has loans that have been weighted and calculated as $50 million. The capital adequacy ratio of bank ABC is 30 percent (($10 million + $5 million) / $50 million). Therefore, this bank has a high capital adequacy ratio and is considered to be safer. As a result, Bank ABC is less likely to become insolvent if unexpected losses occur."
   ]
  },
  {
   "cell_type": "raw",
   "id": "50b9d3d2-738d-4406-9916-9f3195b0a594",
   "metadata": {},
   "source": [
    "GE (Governance and Ethics):\n",
    "    Evaluates the governance practices and ethical standards within the banking institutions. Scores varies with different score providers, while highest scores was givven to the JBMorgan Chase."
   ]
  },
  {
   "cell_type": "raw",
   "id": "24cc0ffb-e673-44d3-a735-21de404887c4",
   "metadata": {},
   "source": [
    "PS (Profitability and Sustainability): \n",
    "    Profitability is a measure of how much profit a business makes relative to its expenses1. Sustainability is the ability of a business to operate in a way that does not harm the environment, society, or future generations."
   ]
  },
  {
   "cell_type": "raw",
   "id": "a0b60e6c-db32-4eb0-802d-588b9ecaa46e",
   "metadata": {},
   "source": [
    "RQ (Regulatory Compliance): \n",
    "    Regulatory compliance for banks is the adherence to any and all local laws and regulations wherever they operate1. It covers a range of industry factors, such as security, risk management, information processing, and data reliability2. The regulatory function aims to convey the compliance policy to staff, enforce an ethical bank culture, and standardize processes3."
   ]
  },
  {
   "cell_type": "raw",
   "id": "92da121d-d606-469a-997f-46c4b9003c0c",
   "metadata": {},
   "source": [
    "RL (Liquidity Risk): \n",
    "    Evaluates the risk associated with a bank's ability to meet its short-term obligations.\n"
   ]
  },
  {
   "cell_type": "raw",
   "id": "b22b8ed4-b318-4d8a-b724-261d95408d1e",
   "metadata": {},
   "source": [
    "VA (Value Added): \n",
    "    It is the measure of how much banks contribute to the economy by providing services to their customers, not just by earning interest or taking on risk."
   ]
  },
  {
   "cell_type": "code",
   "execution_count": null,
   "id": "96a322f6-c46f-4f1c-9bed-d597a1ae6d03",
   "metadata": {},
   "outputs": [],
   "source": []
  },
  {
   "cell_type": "code",
   "execution_count": 1,
   "id": "2ff2f5b5-f66f-4c4c-afa2-d6e852b0c609",
   "metadata": {
    "tags": []
   },
   "outputs": [],
   "source": [
    "# importing Pandas.\n",
    "\n",
    "import pandas as pd"
   ]
  },
  {
   "cell_type": "code",
   "execution_count": 2,
   "id": "945a128c-d02e-4c66-b2c2-41d4a6ad56b4",
   "metadata": {
    "tags": []
   },
   "outputs": [
    {
     "data": {
      "text/plain": [
       "(742, 20)"
      ]
     },
     "execution_count": 2,
     "metadata": {},
     "output_type": "execute_result"
    }
   ],
   "source": [
    "# importing the csv file.\n",
    "\n",
    "df=pd.read_csv(r\"C:\\Users\\Ramez-PC\\Downloads\\1- datasets\\Banking Sector of the UEMOA countries 🌍\\WAEMU_Banking.csv\")\n",
    "df.sample(3)\n",
    "df.shape"
   ]
  },
  {
   "cell_type": "code",
   "execution_count": 3,
   "id": "ab880d42-d0ab-4069-97ca-b5fd47172342",
   "metadata": {
    "tags": []
   },
   "outputs": [
    {
     "data": {
      "text/html": [
       "<div>\n",
       "<style scoped>\n",
       "    .dataframe tbody tr th:only-of-type {\n",
       "        vertical-align: middle;\n",
       "    }\n",
       "\n",
       "    .dataframe tbody tr th {\n",
       "        vertical-align: top;\n",
       "    }\n",
       "\n",
       "    .dataframe thead th {\n",
       "        text-align: right;\n",
       "    }\n",
       "</style>\n",
       "<table border=\"1\" class=\"dataframe\">\n",
       "  <thead>\n",
       "    <tr style=\"text-align: right;\">\n",
       "      <th></th>\n",
       "      <th>Country</th>\n",
       "    </tr>\n",
       "    <tr>\n",
       "      <th>Country_Code</th>\n",
       "      <th></th>\n",
       "    </tr>\n",
       "  </thead>\n",
       "  <tbody>\n",
       "    <tr>\n",
       "      <th>1</th>\n",
       "      <td>Bénin</td>\n",
       "    </tr>\n",
       "    <tr>\n",
       "      <th>2</th>\n",
       "      <td>Burkina Faso</td>\n",
       "    </tr>\n",
       "    <tr>\n",
       "      <th>3</th>\n",
       "      <td>Côte d'Ivoire</td>\n",
       "    </tr>\n",
       "    <tr>\n",
       "      <th>4</th>\n",
       "      <td>GUINEE-BISSAU</td>\n",
       "    </tr>\n",
       "    <tr>\n",
       "      <th>5</th>\n",
       "      <td>Mali</td>\n",
       "    </tr>\n",
       "    <tr>\n",
       "      <th>6</th>\n",
       "      <td>Niger</td>\n",
       "    </tr>\n",
       "    <tr>\n",
       "      <th>7</th>\n",
       "      <td>Sénégal</td>\n",
       "    </tr>\n",
       "    <tr>\n",
       "      <th>8</th>\n",
       "      <td>Togo</td>\n",
       "    </tr>\n",
       "  </tbody>\n",
       "</table>\n",
       "</div>"
      ],
      "text/plain": [
       "                    Country\n",
       "Country_Code               \n",
       "1                     Bénin\n",
       "2              Burkina Faso\n",
       "3             Côte d'Ivoire\n",
       "4             GUINEE-BISSAU\n",
       "5                      Mali\n",
       "6                     Niger\n",
       "7                   Sénégal\n",
       "8                      Togo"
      ]
     },
     "execution_count": 3,
     "metadata": {},
     "output_type": "execute_result"
    }
   ],
   "source": [
    "# making a sub dataframe of unique countries names and its unique corresponding number.\n",
    "\n",
    "x=df['Countries_Num'].unique()\n",
    "countryCode=pd.DataFrame(x, columns=['Country_Code'])\n",
    "countryCode['Country']=df['Countries'].unique()\n",
    "countryCode.set_index('Country_Code', inplace=True)\n",
    "countryCode"
   ]
  },
  {
   "cell_type": "code",
   "execution_count": 4,
   "id": "0ba0a25a-5c49-4edd-b3ba-7a0e38e4ceff",
   "metadata": {
    "tags": []
   },
   "outputs": [
    {
     "data": {
      "text/html": [
       "<div>\n",
       "<style scoped>\n",
       "    .dataframe tbody tr th:only-of-type {\n",
       "        vertical-align: middle;\n",
       "    }\n",
       "\n",
       "    .dataframe tbody tr th {\n",
       "        vertical-align: top;\n",
       "    }\n",
       "\n",
       "    .dataframe thead th {\n",
       "        text-align: right;\n",
       "    }\n",
       "</style>\n",
       "<table border=\"1\" class=\"dataframe\">\n",
       "  <thead>\n",
       "    <tr style=\"text-align: right;\">\n",
       "      <th></th>\n",
       "      <th>Bank_Name</th>\n",
       "    </tr>\n",
       "    <tr>\n",
       "      <th>Bank_Id</th>\n",
       "      <th></th>\n",
       "    </tr>\n",
       "  </thead>\n",
       "  <tbody>\n",
       "    <tr>\n",
       "      <th>102</th>\n",
       "      <td>Succursale de NSIA Banque au Togo</td>\n",
       "    </tr>\n",
       "    <tr>\n",
       "      <th>103</th>\n",
       "      <td>Ecobank-Togo</td>\n",
       "    </tr>\n",
       "    <tr>\n",
       "      <th>104</th>\n",
       "      <td>ORABANK-Togo</td>\n",
       "    </tr>\n",
       "    <tr>\n",
       "      <th>105</th>\n",
       "      <td>Société Interafricaine de Banque</td>\n",
       "    </tr>\n",
       "    <tr>\n",
       "      <th>106</th>\n",
       "      <td>Union Togolaise de Banque</td>\n",
       "    </tr>\n",
       "  </tbody>\n",
       "</table>\n",
       "</div>"
      ],
      "text/plain": [
       "                                 Bank_Name\n",
       "Bank_Id                                   \n",
       "102      Succursale de NSIA Banque au Togo\n",
       "103                           Ecobank-Togo\n",
       "104                           ORABANK-Togo\n",
       "105       Société Interafricaine de Banque\n",
       "106              Union Togolaise de Banque"
      ]
     },
     "execution_count": 4,
     "metadata": {},
     "output_type": "execute_result"
    }
   ],
   "source": [
    "# making a sub dataframe of unique bank names and its unique corresponding number.\n",
    "\n",
    "bankId = df.groupby(['id', 'Banks']).size().reset_index()\n",
    "bankId.rename(columns={'id':'Bank_Id', 'Banks':'Bank_Name'}, inplace=True)\n",
    "bankId.set_index('Bank_Id', inplace=True)\n",
    "del bankId[0]\n",
    "bankId.tail()"
   ]
  },
  {
   "cell_type": "code",
   "execution_count": 5,
   "id": "6e5dba2b-a1c7-4505-9015-fb812ee8cbb7",
   "metadata": {
    "tags": []
   },
   "outputs": [],
   "source": [
    "# saving the two supsets ot a csv files for further use.\n",
    "\n",
    "countryCode.to_csv('CountryList.csv')\n",
    "bankId.to_csv('BankList.csv')"
   ]
  },
  {
   "cell_type": "code",
   "execution_count": 6,
   "id": "0a236714-36e0-4500-b177-28bc1a4a08c3",
   "metadata": {},
   "outputs": [
    {
     "data": {
      "text/plain": [
       "(742, 18)"
      ]
     },
     "execution_count": 6,
     "metadata": {},
     "output_type": "execute_result"
    }
   ],
   "source": [
    "# Dropping country name and bank name columns.\n",
    "\n",
    "df.drop(['Countries','Banks'],inplace=True, axis=1)\n",
    "df.shape"
   ]
  },
  {
   "cell_type": "code",
   "execution_count": 7,
   "id": "dbce120e-6d65-4428-8993-698c3854e1ca",
   "metadata": {
    "tags": []
   },
   "outputs": [],
   "source": [
    "# Saving the main dataframe.\n",
    "\n",
    "df.to_csv('WAEMU_Short.csv')"
   ]
  },
  {
   "cell_type": "code",
   "execution_count": null,
   "id": "72ed9561-e782-4713-900b-bfa26605c6a3",
   "metadata": {},
   "outputs": [],
   "source": []
  }
 ],
 "metadata": {
  "kernelspec": {
   "display_name": "Python 3 (ipykernel)",
   "language": "python",
   "name": "python3"
  },
  "language_info": {
   "codemirror_mode": {
    "name": "ipython",
    "version": 3
   },
   "file_extension": ".py",
   "mimetype": "text/x-python",
   "name": "python",
   "nbconvert_exporter": "python",
   "pygments_lexer": "ipython3",
   "version": "3.11.5"
  }
 },
 "nbformat": 4,
 "nbformat_minor": 5
}
