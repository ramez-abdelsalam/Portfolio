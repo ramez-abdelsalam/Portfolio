{
 "cells": [
  {
   "cell_type": "markdown",
   "id": "8735b336-5a6e-4e2f-9682-62cd9ca59999",
   "metadata": {},
   "source": [
    "   ## Hotel Bookings Dataset Cleaning & Analyzing Trends ##"
   ]
  },
  {
   "cell_type": "markdown",
   "id": "101258d1-3427-40d6-b7ad-942437ab93d3",
   "metadata": {},
   "source": [
    "**About the dataset**"
   ]
  },
  {
   "cell_type": "raw",
   "id": "25580751-df42-4eb7-be9c-31b3b8e0127a",
   "metadata": {},
   "source": [
    "Link to the dataset: https://www.kaggle.com/datasets/saadharoon27/hotel-booking-dataset/data\n",
    "Lisence: CC0: Public Domain\n",
    "Usability: 7.65\n",
    "\n",
    "The original dataset was a real hotel dataset, of real customers, all the elements of hotel or costumer identification were deleted.\n",
    "All the values of the columns: 'name', 'email', 'phone number' and 'credit_card' have been artificially created using a python and filled into the dataset."
   ]
  },
  {
   "cell_type": "markdown",
   "id": "d7d396ca-817e-4967-b421-b3a0a4793065",
   "metadata": {},
   "source": [
    "**Columns description**"
   ]
  },
  {
   "cell_type": "raw",
   "id": "087da6a2-9d6e-4f55-9735-a4fc0aa8ae34",
   "metadata": {},
   "source": [
    "hotel: Type of the hotel.\n",
    "is_canceled: Whether the booking was cancelled (1) or not (0).\n",
    "lead_time: Number of days between booking date and arrival date.\n",
    "arrival_date_year: Year of arrival.\n",
    "arrival_date_month: Month of arrival.\n",
    "arrival_date_week_number: Week number of arrival within the year.\n",
    "arrival_date_day_of_month: Day of arrival date.\n",
    "stays_in_weekend_nights: Number of weekend nights (Saturday or Sunday) the guest stays.\n",
    "stays_in_week_nights: Number of weekday nights (Monday to Friday) the guest stays.\n",
    "adults: Number of adults.\n",
    "children: Number of children.\n",
    "babies: Number of babies.\n",
    "meal: Type of meal booked.\n",
    "market_segment: Market segment designation.\n",
    "distribution_channel: Booking distribution channel.\n",
    "is_repeated_guest: Whether the guest is a repeated guest (1) or not (0).\n",
    "previous_cancellations: Number of previous booking cancellations.\n",
    "previous_bookings_not_canceled: Number of previous bookings not cancelled.\n",
    "reserved_room_type: Code of room type reserved.\n",
    "assigned_room_type: Code of room type assigned at check-in.\n",
    "booking_changes: Number of changes/amendments made to the booking.\n",
    "deposit_type: Type of deposit made.\n",
    "agent: ID of the travel agency.\n",
    "company: ID of the company.\n",
    "days_in_waiting_list: Number of days in the waiting list before booking.\n",
    "customer_type: Type of booking.\n",
    "adr: Average daily rate.\n",
    "required_car_parking_spaces: Number of car parking spaces required.\n",
    "total_of_special_requests: Number of special requests made.\n",
    "reservation_status: Reservation last status.\n",
    "reservation_status_date: Date of the last status.\n",
    "name: Guest's name. (Not Real)\n",
    "email: Guest's email address.(Not Real)\n",
    "phone-number: Guest's phone number. (Not Real)\n",
    "credit_card: Guest's credit card details. (Not Real)\n",
    "Country: Country of origin.\n",
    "full_rate: Price for all nights."
   ]
  },
  {
   "cell_type": "code",
   "execution_count": null,
   "id": "9f556fca-2461-4f45-8149-dc83fc5af989",
   "metadata": {},
   "outputs": [],
   "source": []
  },
  {
   "cell_type": "markdown",
   "id": "15a4d7c0-df43-4633-a8d7-9ec9ba3cc640",
   "metadata": {
    "tags": []
   },
   "source": [
    "**Importing Librarries**"
   ]
  },
  {
   "cell_type": "code",
   "execution_count": 1,
   "id": "7f208d8e-fb9f-442d-88ec-d164eb2e292e",
   "metadata": {
    "tags": []
   },
   "outputs": [],
   "source": [
    "import pandas as pd\n",
    "import numpy as np\n",
    "import seaborn as sns\n",
    "import matplotlib.pyplot as plt"
   ]
  },
  {
   "cell_type": "code",
   "execution_count": null,
   "id": "ce1e28e9-1606-422c-a863-ff191d206d9b",
   "metadata": {},
   "outputs": [],
   "source": []
  },
  {
   "cell_type": "markdown",
   "id": "ecd9aa71-1bfe-4507-aea9-508cd9973573",
   "metadata": {},
   "source": [
    "**Importing, Inspecting & Cleaning the dataset**"
   ]
  },
  {
   "cell_type": "raw",
   "id": "91cb1632-ca8c-4e65-81f8-5d75d691705c",
   "metadata": {},
   "source": [
    "1- I took a look on the csv file before starting and i found that countries names here are represented by the 3 letter code, while not every person is familiar with these codes and as it can be tricky, i will replace it with full country names.\n",
    "\n",
    "I searched for the full list on the web and then scraped it, code is below."
   ]
  },
  {
   "cell_type": "raw",
   "id": "d63baaf4-5df3-4333-91d7-f486eb3fca31",
   "metadata": {},
   "source": [
    "from bs4 import BeautifulSoup\n",
    "import requests\n",
    "import pandas as pd\n",
    "\n",
    "url=('https://laendercode.net/en/3-letter-list.html#')\n",
    "page=requests.get(url)\n",
    "soup=BeautifulSoup(page.text, 'html')\n",
    "\n",
    "table=soup.find('table',{'class':'table table-colored table-hover'})\n",
    "rows=table.find_all('tr')[1:]\n",
    "length=len(rows)\n",
    "\n",
    "code3letter = pd.DataFrame(columns=['ISO 3166 ALPHA-3', 'Country'])\n",
    "\n",
    "for i in range (length):\n",
    "    \n",
    "    # calling and extracting the 3 letter codes\n",
    "    code=table.find_all('h4',{'class':'margin-clear'})\n",
    "    country_code=code[i].text\n",
    "    \n",
    "    # Calling and extracting country names\n",
    "    country=table.find_all('a')[1::2] # 'a' tag called country and code so i used [1::2] to get every other value from index 1\n",
    "    country_name=country[i].text\n",
    "    \n",
    "    # Appending scraped data to the list\n",
    "    code3letter = code3letter.append({'ISO 3166 ALPHA-3':country_code, 'Country':country_name}, ignore_index=True)\n",
    "    \n",
    "\n",
    "print('loop successful')\n",
    "\n",
    "code3letter.to_csv('Countries_3Letter_codes.csv')"
   ]
  },
  {
   "cell_type": "code",
   "execution_count": 2,
   "id": "c38667f6-9c3a-473a-922a-0bc681ba7602",
   "metadata": {
    "tags": []
   },
   "outputs": [],
   "source": [
    "# importing the two csv files to dataframes.\n",
    "\n",
    "bookings= pd.read_csv(r\"C:\\Users\\ramez-PC\\Downloads\\1- datasets\\Hotel Bookings\\hotel_booking.csv\")\n",
    "codes=pd.read_csv(r\"C:\\Users\\Ramez-PC\\Downloads\\1- datasets\\Hotel Bookings\\3Letter_Country_codes.csv\")"
   ]
  },
  {
   "cell_type": "code",
   "execution_count": 3,
   "id": "abaef364-9ebf-4844-8214-f452f764c8c8",
   "metadata": {
    "tags": []
   },
   "outputs": [],
   "source": [
    "# I will change the name of column ISO 3166 ALPHA-3 to 'country' so it matches the merge column.\n",
    "codes.rename(columns={'ISO 3166 ALPHA-3':'country'}, inplace=True)\n",
    "\n",
    "\"\"\"\n",
    "I did the merge then i found more nulls in Country column than it should be, after investigating,\n",
    "i found one country code in two letters CN so i returned here to change it to CHN before the merge.\n",
    "\"\"\"\n",
    "bookings.loc[bookings[\"country\"] == \"CN\", \"country\"] = 'CHN'"
   ]
  },
  {
   "cell_type": "markdown",
   "id": "c76bc707-c01c-47b8-b143-9cf29c4f2786",
   "metadata": {},
   "source": [
    "Now i will correct all columns data types so i don't encounter error messages ahead."
   ]
  },
  {
   "cell_type": "code",
   "execution_count": 4,
   "id": "e8e6f048-5ea3-487f-974b-bc7911d7643e",
   "metadata": {
    "tags": []
   },
   "outputs": [],
   "source": [
    "bookings['is_canceled']=bookings['is_canceled'].astype(str)\n",
    "bookings['arrival_date_year']=bookings['arrival_date_year'].astype(str)\n",
    "bookings['arrival_date_week_number']=bookings['arrival_date_week_number'].astype(int)\n",
    "bookings['arrival_date_day_of_month']=bookings['arrival_date_day_of_month'].astype(str)\n",
    "bookings['is_repeated_guest']=bookings['is_repeated_guest'].astype(str)\n",
    "bookings['agent']=bookings['agent'].astype(str) #\n",
    "bookings['company']=bookings['company'].astype(str)\n",
    "bookings['reservation_status_date'] = pd.to_datetime(bookings['reservation_status_date'])\n"
   ]
  },
  {
   "cell_type": "markdown",
   "id": "4f82a5b0-e318-4d18-899a-c6be542b64f4",
   "metadata": {},
   "source": [
    "I will make a new colum for the price of the full stay."
   ]
  },
  {
   "cell_type": "code",
   "execution_count": 5,
   "id": "d7384a68-34ef-43d2-a15d-1605742e2991",
   "metadata": {
    "tags": []
   },
   "outputs": [],
   "source": [
    "bookings['full_rate']=(bookings['stays_in_weekend_nights']+ bookings['stays_in_week_nights'])*bookings['adr']\n",
    "\n",
    "# I will merge both datasets now and save it for dashboarding on power BI.\n",
    "df=bookings.merge(codes, on='country', how='left')\n",
    "\n",
    "# Deleting the old country column.\n",
    "del df[\"country\"]\n",
    "\n",
    "# Replacing nulls in Country column before saving\n",
    "df['Country'].fillna(method=\"ffill\",inplace=True) \n",
    "\n",
    "# Saving the dataset to a csv file.\n",
    "df.to_csv('Hotel_Bookings_Cleaned_UnCut.csv')"
   ]
  },
  {
   "cell_type": "markdown",
   "id": "e4bfb5c0-e4ea-4718-857b-ddbc13bbae6f",
   "metadata": {},
   "source": [
    "Now i will remove the bookings that were cancelled to do some EDA later"
   ]
  },
  {
   "cell_type": "code",
   "execution_count": 6,
   "id": "ad7fd66e-04ed-46b3-a031-740de41da88f",
   "metadata": {
    "tags": []
   },
   "outputs": [
    {
     "data": {
      "text/plain": [
       "(75166, 37)"
      ]
     },
     "execution_count": 6,
     "metadata": {},
     "output_type": "execute_result"
    }
   ],
   "source": [
    "checkedIn = bookings[bookings[\"is_canceled\"] == '0']\n",
    "checkedIn.shape"
   ]
  },
  {
   "cell_type": "code",
   "execution_count": 7,
   "id": "8f354781-5f90-445a-a19d-1d61bcd5140b",
   "metadata": {
    "tags": []
   },
   "outputs": [
    {
     "data": {
      "text/html": [
       "<div>\n",
       "<style scoped>\n",
       "    .dataframe tbody tr th:only-of-type {\n",
       "        vertical-align: middle;\n",
       "    }\n",
       "\n",
       "    .dataframe tbody tr th {\n",
       "        vertical-align: top;\n",
       "    }\n",
       "\n",
       "    .dataframe thead th {\n",
       "        text-align: right;\n",
       "    }\n",
       "</style>\n",
       "<table border=\"1\" class=\"dataframe\">\n",
       "  <thead>\n",
       "    <tr style=\"text-align: right;\">\n",
       "      <th></th>\n",
       "      <th>hotel</th>\n",
       "      <th>is_canceled</th>\n",
       "      <th>lead_time</th>\n",
       "      <th>arrival_date_year</th>\n",
       "      <th>arrival_date_month</th>\n",
       "      <th>arrival_date_week_number</th>\n",
       "      <th>arrival_date_day_of_month</th>\n",
       "      <th>stays_in_weekend_nights</th>\n",
       "      <th>stays_in_week_nights</th>\n",
       "      <th>adults</th>\n",
       "      <th>...</th>\n",
       "      <th>required_car_parking_spaces</th>\n",
       "      <th>total_of_special_requests</th>\n",
       "      <th>reservation_status</th>\n",
       "      <th>reservation_status_date</th>\n",
       "      <th>name</th>\n",
       "      <th>email</th>\n",
       "      <th>phone-number</th>\n",
       "      <th>credit_card</th>\n",
       "      <th>full_rate</th>\n",
       "      <th>Country</th>\n",
       "    </tr>\n",
       "  </thead>\n",
       "  <tbody>\n",
       "    <tr>\n",
       "      <th>0</th>\n",
       "      <td>Resort Hotel</td>\n",
       "      <td>0</td>\n",
       "      <td>342</td>\n",
       "      <td>2015</td>\n",
       "      <td>July</td>\n",
       "      <td>27</td>\n",
       "      <td>1</td>\n",
       "      <td>0</td>\n",
       "      <td>0</td>\n",
       "      <td>2</td>\n",
       "      <td>...</td>\n",
       "      <td>0</td>\n",
       "      <td>0</td>\n",
       "      <td>Check-Out</td>\n",
       "      <td>2015-07-01</td>\n",
       "      <td>Ernest Barnes</td>\n",
       "      <td>Ernest.Barnes31@outlook.com</td>\n",
       "      <td>669-792-1661</td>\n",
       "      <td>************4322</td>\n",
       "      <td>0.0</td>\n",
       "      <td>Portugal</td>\n",
       "    </tr>\n",
       "    <tr>\n",
       "      <th>1</th>\n",
       "      <td>Resort Hotel</td>\n",
       "      <td>0</td>\n",
       "      <td>737</td>\n",
       "      <td>2015</td>\n",
       "      <td>July</td>\n",
       "      <td>27</td>\n",
       "      <td>1</td>\n",
       "      <td>0</td>\n",
       "      <td>0</td>\n",
       "      <td>2</td>\n",
       "      <td>...</td>\n",
       "      <td>0</td>\n",
       "      <td>0</td>\n",
       "      <td>Check-Out</td>\n",
       "      <td>2015-07-01</td>\n",
       "      <td>Andrea Baker</td>\n",
       "      <td>Andrea_Baker94@aol.com</td>\n",
       "      <td>858-637-6955</td>\n",
       "      <td>************9157</td>\n",
       "      <td>0.0</td>\n",
       "      <td>Portugal</td>\n",
       "    </tr>\n",
       "  </tbody>\n",
       "</table>\n",
       "<p>2 rows × 38 columns</p>\n",
       "</div>"
      ],
      "text/plain": [
       "          hotel is_canceled  lead_time arrival_date_year arrival_date_month  \\\n",
       "0  Resort Hotel           0        342              2015               July   \n",
       "1  Resort Hotel           0        737              2015               July   \n",
       "\n",
       "   arrival_date_week_number arrival_date_day_of_month  \\\n",
       "0                        27                         1   \n",
       "1                        27                         1   \n",
       "\n",
       "   stays_in_weekend_nights  stays_in_week_nights  adults  ...  \\\n",
       "0                        0                     0       2  ...   \n",
       "1                        0                     0       2  ...   \n",
       "\n",
       "   required_car_parking_spaces  total_of_special_requests reservation_status  \\\n",
       "0                            0                          0          Check-Out   \n",
       "1                            0                          0          Check-Out   \n",
       "\n",
       "  reservation_status_date           name                        email  \\\n",
       "0              2015-07-01  Ernest Barnes  Ernest.Barnes31@outlook.com   \n",
       "1              2015-07-01   Andrea Baker       Andrea_Baker94@aol.com   \n",
       "\n",
       "   phone-number       credit_card  full_rate   Country  \n",
       "0  669-792-1661  ************4322        0.0  Portugal  \n",
       "1  858-637-6955  ************9157        0.0  Portugal  \n",
       "\n",
       "[2 rows x 38 columns]"
      ]
     },
     "execution_count": 7,
     "metadata": {},
     "output_type": "execute_result"
    }
   ],
   "source": [
    "# merging the 2 datasets on country column.\n",
    "\n",
    "\n",
    "merged=checkedIn.merge(codes, on='country', how='left')\n",
    "merged.head(2)"
   ]
  },
  {
   "cell_type": "code",
   "execution_count": 8,
   "id": "37a02da8-f379-4145-8736-235e37b11e8e",
   "metadata": {
    "tags": []
   },
   "outputs": [],
   "source": [
    "# Time to remove old country column that i will not use.\n",
    "\n",
    "del merged[\"country\"]"
   ]
  },
  {
   "cell_type": "code",
   "execution_count": 9,
   "id": "deb46d4e-96ca-4b6c-b5e2-38cb126b3083",
   "metadata": {
    "tags": []
   },
   "outputs": [
    {
     "data": {
      "text/plain": [
       "hotel                               0\n",
       "is_canceled                         0\n",
       "lead_time                           0\n",
       "arrival_date_year                   0\n",
       "arrival_date_month                  0\n",
       "arrival_date_week_number            0\n",
       "arrival_date_day_of_month           0\n",
       "stays_in_weekend_nights             0\n",
       "stays_in_week_nights                0\n",
       "adults                              0\n",
       "children                            0\n",
       "babies                              0\n",
       "meal                                0\n",
       "market_segment                      0\n",
       "distribution_channel                0\n",
       "is_repeated_guest                   0\n",
       "previous_cancellations              0\n",
       "previous_bookings_not_canceled      0\n",
       "reserved_room_type                  0\n",
       "assigned_room_type                  0\n",
       "booking_changes                     0\n",
       "deposit_type                        0\n",
       "agent                               0\n",
       "company                             0\n",
       "days_in_waiting_list                0\n",
       "customer_type                       0\n",
       "adr                                 0\n",
       "required_car_parking_spaces         0\n",
       "total_of_special_requests           0\n",
       "reservation_status                  0\n",
       "reservation_status_date             0\n",
       "name                                0\n",
       "email                               0\n",
       "phone-number                        0\n",
       "credit_card                         0\n",
       "full_rate                           0\n",
       "Country                           423\n",
       "dtype: int64"
      ]
     },
     "execution_count": 9,
     "metadata": {},
     "output_type": "execute_result"
    }
   ],
   "source": [
    "# Null values inspection.\n",
    "\n",
    "merged.isnull().sum()"
   ]
  },
  {
   "cell_type": "code",
   "execution_count": null,
   "id": "8523242b-1b2f-46b8-94ec-70e1d1e02b0b",
   "metadata": {},
   "outputs": [],
   "source": []
  },
  {
   "cell_type": "markdown",
   "id": "54842379-7b02-4c60-9341-7c0f76841936",
   "metadata": {
    "tags": []
   },
   "source": [
    "Normally if there is an object values we replace it by the most repeated value 'mode', but I am thinking of using the ffill method, where we replace the empty cell with the value of the cell above."
   ]
  },
  {
   "cell_type": "code",
   "execution_count": 10,
   "id": "2a047fb9-192c-4822-a79c-3627d63a2666",
   "metadata": {},
   "outputs": [],
   "source": [
    "# replacing the nulls in Country and children columns.\n",
    "\n",
    "merged['Country'].fillna(method=\"ffill\",inplace=True) # ffill descriped above."
   ]
  },
  {
   "cell_type": "code",
   "execution_count": 11,
   "id": "b288bb94-5bd2-4eb1-99a1-661de027820c",
   "metadata": {
    "tags": []
   },
   "outputs": [
    {
     "data": {
      "text/plain": [
       "hotel                                     object\n",
       "is_canceled                               object\n",
       "lead_time                                  int64\n",
       "arrival_date_year                         object\n",
       "arrival_date_month                        object\n",
       "arrival_date_week_number                   int32\n",
       "arrival_date_day_of_month                 object\n",
       "stays_in_weekend_nights                    int64\n",
       "stays_in_week_nights                       int64\n",
       "adults                                     int64\n",
       "children                                 float64\n",
       "babies                                     int64\n",
       "meal                                      object\n",
       "market_segment                            object\n",
       "distribution_channel                      object\n",
       "is_repeated_guest                         object\n",
       "previous_cancellations                     int64\n",
       "previous_bookings_not_canceled             int64\n",
       "reserved_room_type                        object\n",
       "assigned_room_type                        object\n",
       "booking_changes                            int64\n",
       "deposit_type                              object\n",
       "agent                                     object\n",
       "company                                   object\n",
       "days_in_waiting_list                       int64\n",
       "customer_type                             object\n",
       "adr                                      float64\n",
       "required_car_parking_spaces                int64\n",
       "total_of_special_requests                  int64\n",
       "reservation_status                        object\n",
       "reservation_status_date           datetime64[ns]\n",
       "name                                      object\n",
       "email                                     object\n",
       "phone-number                              object\n",
       "credit_card                               object\n",
       "full_rate                                float64\n",
       "Country                                   object\n",
       "dtype: object"
      ]
     },
     "execution_count": 11,
     "metadata": {},
     "output_type": "execute_result"
    }
   ],
   "source": [
    "# all coulmns dtypes after altering.\n",
    "\n",
    "merged.dtypes"
   ]
  },
  {
   "cell_type": "code",
   "execution_count": 12,
   "id": "4f72a7aa-3be0-421d-b281-f6817bf0e704",
   "metadata": {
    "tags": []
   },
   "outputs": [],
   "source": [
    "# saving the cleaned dataset into another csv file.\n",
    "\n",
    "merged.to_csv('Hotel_Bookings_Cleaned.csv')"
   ]
  },
  {
   "cell_type": "code",
   "execution_count": null,
   "id": "c7b407bd-4321-4174-8752-7f5099c9e292",
   "metadata": {},
   "outputs": [],
   "source": []
  },
  {
   "cell_type": "markdown",
   "id": "894edd57-c2b9-44dc-bab2-9c3978ce8a5a",
   "metadata": {},
   "source": [
    "**Exploartory Data Analysis**"
   ]
  },
  {
   "cell_type": "code",
   "execution_count": 13,
   "id": "2b1505e7-3b18-425e-b9f9-fdd49e7df679",
   "metadata": {
    "tags": []
   },
   "outputs": [
    {
     "name": "stderr",
     "output_type": "stream",
     "text": [
      "C:\\Users\\Ramez-PC\\AppData\\Local\\Temp\\ipykernel_15868\\1420670666.py:2: FutureWarning: The default value of numeric_only in DataFrameGroupBy.sum is deprecated. In a future version, numeric_only will default to False. Either specify numeric_only or select only columns which should be valid for the function.\n",
      "  highSeason=(highSeason.groupby(\"arrival_date_month\").sum()[[\"2015\", \"2016\", \"2017\"]]\n"
     ]
    }
   ],
   "source": [
    "# Inspecting tourism activity, high and low seasons\n",
    "# Making a dataset of tourists count for every month and separated years\n",
    "\n",
    "highSeason = pd.concat([merged, pd.get_dummies(merged[\"arrival_date_year\"])], axis=1)\n",
    "highSeason=(highSeason.groupby(\"arrival_date_month\").sum()[[\"2015\", \"2016\", \"2017\"]]\n",
    "            .sort_values(\"2016\").reset_index())\n",
    "\n",
    "highSeason.set_index('arrival_date_month', inplace=True)"
   ]
  },
  {
   "cell_type": "code",
   "execution_count": 14,
   "id": "aa95dd68-4426-4cb2-a09c-3d58783fc0ae",
   "metadata": {
    "tags": []
   },
   "outputs": [
    {
     "data": {
      "image/png": "[encoded data removed]",
      "text/plain": [
       "<Figure size 1500x600 with 1 Axes>"
      ]
     },
     "metadata": {},
     "output_type": "display_data"
    }
   ],
   "source": [
    "colors_list=['darkblue','steelblue','lightskyblue']\n",
    "\n",
    "highSeason.plot(kind='bar', figsize=(15,6), color=colors_list)\n",
    "plt.title('Tourism Activity per Month')\n",
    "plt.xlabel('Month')\n",
    "plt.ylabel('Tourists Count')\n",
    "plt.show()"
   ]
  },
  {
   "cell_type": "code",
   "execution_count": 15,
   "id": "5be74155-7090-4258-94f5-3d1487f442ce",
   "metadata": {
    "tags": []
   },
   "outputs": [
    {
     "name": "stderr",
     "output_type": "stream",
     "text": [
      "C:\\Users\\Ramez-PC\\AppData\\Local\\Temp\\ipykernel_15868\\2936973866.py:2: FutureWarning: The default value of numeric_only in DataFrameGroupBy.sum is deprecated. In a future version, numeric_only will default to False. Either specify numeric_only or select only columns which should be valid for the function.\n",
      "  topCountries=(topCountries.groupby(\"Country\").sum()[[\"2015\", \"2016\", \"2017\"]]\n"
     ]
    }
   ],
   "source": [
    "topCountries = pd.concat([merged, pd.get_dummies(merged[\"arrival_date_year\"])], axis=1)\n",
    "topCountries=(topCountries.groupby(\"Country\").sum()[[\"2015\", \"2016\", \"2017\"]]\n",
    "            .sort_values(\"2016\").reset_index()).tail(10)\n",
    "topCountries.set_index('Country', inplace=True)"
   ]
  },
  {
   "cell_type": "code",
   "execution_count": 16,
   "id": "afe76c93-7390-49b1-beaf-538ae99592a7",
   "metadata": {
    "tags": []
   },
   "outputs": [
    {
     "data": {
      "image/png": "[encoded data removed]",
      "text/plain": [
       "<Figure size 1500x600 with 1 Axes>"
      ]
     },
     "metadata": {},
     "output_type": "display_data"
    }
   ],
   "source": [
    "colors_list=['darkblue','steelblue','lightskyblue']\n",
    "\n",
    "topCountries.plot(kind='barh', figsize=(15,6), color=colors_list)\n",
    "plt.title('Countries with most visitors')\n",
    "plt.xlabel('Tourists Count')\n",
    "plt.ylabel('Country')\n",
    "plt.show()"
   ]
  },
  {
   "cell_type": "code",
   "execution_count": null,
   "id": "4a0aa413-2086-4b8a-beb6-353dfd072b15",
   "metadata": {},
   "outputs": [],
   "source": []
  }
 ],
 "metadata": {
  "kernelspec": {
   "display_name": "Python 3 (ipykernel)",
   "language": "python",
   "name": "python3"
  },
  "language_info": {
   "codemirror_mode": {
    "name": "ipython",
    "version": 3
   },
   "file_extension": ".py",
   "mimetype": "text/x-python",
   "name": "python",
   "nbconvert_exporter": "python",
   "pygments_lexer": "ipython3",
   "version": "3.11.4"
  }
 },
 "nbformat": 4,
 "nbformat_minor": 5
}
